{
 "cells": [
  {
   "cell_type": "markdown",
   "id": "little-cradle",
   "metadata": {},
   "source": [
    "# Whale sorter\n",
    "Use tensorflow to attempt to sort whales in water, whales out of water, and not whales.\n",
    "\n",
    "(Maybe add orcas category at some point at some point)"
   ]
  },
  {
   "cell_type": "code",
   "execution_count": null,
   "id": "finite-hughes",
   "metadata": {},
   "outputs": [],
   "source": []
  }
 ],
 "metadata": {
  "kernelspec": {
   "display_name": "Python 3",
   "language": "python",
   "name": "python3"
  },
  "language_info": {
   "codemirror_mode": {
    "name": "ipython",
    "version": 3
   },
   "file_extension": ".py",
   "mimetype": "text/x-python",
   "name": "python",
   "nbconvert_exporter": "python",
   "pygments_lexer": "ipython3",
   "version": "3.8.8"
  }
 },
 "nbformat": 4,
 "nbformat_minor": 5
}
